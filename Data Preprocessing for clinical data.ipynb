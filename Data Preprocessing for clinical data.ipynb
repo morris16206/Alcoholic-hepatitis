{
 "cells": [
  {
   "cell_type": "code",
   "execution_count": 1,
   "metadata": {},
   "outputs": [],
   "source": [
    "import numpy as np\n",
    "import pandas as pd\n",
    "import matplotlib.pyplot as plt\n",
    "import matplotlib.cm as cm\n",
    "from imblearn.over_sampling import SMOTE\n",
    "from sklearn.model_selection import StratifiedKFold\n",
    "from sklearn.experimental import enable_iterative_imputer\n",
    "from sklearn.impute import IterativeImputer\n",
    "from sklearn import metrics"
   ]
  },
  {
   "cell_type": "code",
   "execution_count": 2,
   "metadata": {},
   "outputs": [],
   "source": [
    "# Read the data\n",
    "df1 = pd.read_excel('1_Clinical data AH_AUD_HC Bernd_bei_updated08012019.xlsx')\n",
    "df = df1[['age', 'alt', 'ast', 'creatinine_value_mg_dl',\n",
    "          'bilirubin_value_mg_dl', 'platelets_value_10to9_l', 'wbc_10to9_l', 'alk_phos',\n",
    "          'albumin_value_g_dl', 'sodium', 'inr', 'dialysis_required',\n",
    "          'ThirtyMo', 'NinetyMo']]\n",
    "\n",
    "df_30 = df[pd.notnull(df['ThirtyMo'])].drop(['NinetyMo'], axis = 1)\n",
    "df_90 = df[pd.notnull(df['NinetyMo'])].drop(['ThirtyMo'], axis = 1)\n",
    "\n",
    "# Fill dialysis\n",
    "df_30.fillna({'dialysis_required': 0}, inplace = True)\n",
    "df_90.fillna({'dialysis_required': 0}, inplace = True)\n",
    "\n",
    "# Calculate MELD score (2016) before imputation\n",
    "df_30['MELD'] = df_30.apply(lambda row:\n",
    "                            9.57 * np.log(np.where(row.dialysis_required == 0,\n",
    "                                                   np.minimum(np.maximum(row.creatinine_value_mg_dl, 1.0), 4.0),\n",
    "                                                   4)) +\n",
    "                            3.78 * np.log(np.maximum(row.bilirubin_value_mg_dl, 1.0)) +\n",
    "                            11.2 * np.log(np.maximum(row.inr, 1.0)) +\n",
    "                            6.43,\n",
    "                            axis = 1)\n",
    "df_30['MELD_2016'] = df_30.apply(lambda row:\n",
    "                                 np.where(row.MELD > 11,\n",
    "                                          row.MELD +\n",
    "                                          1.32 * (137 - np.minimum(np.maximum(row.sodium, 125), 137)) -\n",
    "                                          0.033 * row.MELD * (137 - np.minimum(np.maximum(row.sodium, 125), 137)),\n",
    "                                          row.MELD),\n",
    "                                 axis = 1)\n",
    "\n",
    "df_90['MELD'] = df_90.apply(lambda row:\n",
    "                            9.57 * np.log(np.where(row.dialysis_required == 0,\n",
    "                                                   np.minimum(np.maximum(row.creatinine_value_mg_dl, 1.0), 4.0),\n",
    "                                                   4)) +\n",
    "                            3.78 * np.log(np.maximum(row.bilirubin_value_mg_dl, 1.0)) +\n",
    "                            11.2 * np.log(np.maximum(row.inr, 1.0)) +\n",
    "                            6.43,\n",
    "                            axis = 1)\n",
    "df_90['MELD_2016'] = df_90.apply(lambda row:\n",
    "                                 np.where(row.MELD > 11,\n",
    "                                          row.MELD +\n",
    "                                          1.32 * (137 - np.minimum(np.maximum(row.sodium, 125), 137)) -\n",
    "                                          0.033 * row.MELD * (137 - np.minimum(np.maximum(row.sodium, 125), 137)),\n",
    "                                          row.MELD),\n",
    "                                 axis = 1)\n",
    "\n",
    "df_30 = df_30.drop(['dialysis_required'], axis = 1)\n",
    "df_90 = df_90.drop(['dialysis_required'], axis = 1)\n",
    "\n",
    "# Export the data with MELD score (2016)\n",
    "df_30.to_csv('MELD1_30.csv', index = False)\n",
    "df_90.to_csv('MELD1_90.csv', index = False)"
   ]
  },
  {
   "cell_type": "code",
   "execution_count": 3,
   "metadata": {},
   "outputs": [
    {
     "name": "stdout",
     "output_type": "stream",
     "text": [
      "(210, 14)\n",
      "(158, 14)\n"
     ]
    }
   ],
   "source": [
    "print(df_30.shape)\n",
    "print(df_90.shape)"
   ]
  },
  {
   "cell_type": "code",
   "execution_count": 4,
   "metadata": {},
   "outputs": [
    {
     "name": "stdout",
     "output_type": "stream",
     "text": [
      "(176, 14)\n",
      "(131, 14)\n"
     ]
    }
   ],
   "source": [
    "print(df_30.dropna().shape)\n",
    "print(df_90.dropna().shape)"
   ]
  },
  {
   "cell_type": "code",
   "execution_count": 5,
   "metadata": {},
   "outputs": [
    {
     "name": "stdout",
     "output_type": "stream",
     "text": [
      "              age         alt          ast  creatinine_value_mg_dl  \\\n",
      "count  198.000000  194.000000   195.000000              195.000000   \n",
      "mean    49.324523   57.530928   165.210256                1.145386   \n",
      "std     10.557878   42.966206   152.584342                1.105042   \n",
      "min     26.425000   14.000000    34.000000                0.305100   \n",
      "25%     39.840972   32.000000    98.500000                0.600000   \n",
      "50%     49.416667   44.000000   130.000000                0.770000   \n",
      "75%     58.185417   65.750000   196.000000                1.110000   \n",
      "max     74.763889  404.000000  1858.000000                8.140000   \n",
      "\n",
      "       bilirubin_value_mg_dl  platelets_value_10to9_l  wbc_10to9_l  \\\n",
      "count             194.000000               191.000000   192.000000   \n",
      "mean               16.044776               136.465969    11.612708   \n",
      "std                 9.389153                79.246775     7.903400   \n",
      "min                 2.500000                12.200000     0.000000   \n",
      "25%                 8.132500                79.500000     6.825000   \n",
      "50%                14.200000               120.000000     9.725000   \n",
      "75%                22.015500               174.500000    14.035000   \n",
      "max                51.820000               447.000000    54.560000   \n",
      "\n",
      "          alk_phos  albumin_value_g_dl      sodium         inr    ThirtyMo  \\\n",
      "count   192.000000          188.000000  194.000000  194.000000  210.000000   \n",
      "mean    207.573958            2.569574  133.005670    1.897273    0.147619   \n",
      "std     124.932786            0.604065    5.703859    0.673864    0.355570   \n",
      "min      21.200000            1.100000  106.000000    0.800000    0.000000   \n",
      "25%     130.000000            2.100000  130.000000    1.500000    0.000000   \n",
      "50%     177.000000            2.500000  134.000000    1.800000    0.000000   \n",
      "75%     262.000000            3.000000  137.000000    2.120000    0.000000   \n",
      "max    1153.000000            4.200000  148.000000    7.600000    1.000000   \n",
      "\n",
      "             MELD   MELD_2016  \n",
      "count  193.000000  192.000000  \n",
      "mean    24.884959   26.821804  \n",
      "std      6.641901    6.225670  \n",
      "min     10.113835   10.113835  \n",
      "25%     20.696788   22.108808  \n",
      "50%     23.567919   25.947410  \n",
      "75%     28.152592   30.573739  \n",
      "max     54.291449   48.632035  \n",
      "              age         alt          ast  creatinine_value_mg_dl  \\\n",
      "count  149.000000  146.000000   147.000000              147.000000   \n",
      "mean    49.510328   56.924658   165.414966                1.236035   \n",
      "std     10.866794   45.105254   167.740947                1.210823   \n",
      "min     26.425000   14.000000    34.000000                0.305100   \n",
      "25%     39.661111   31.250000    98.000000                0.610100   \n",
      "50%     49.783333   44.000000   128.000000                0.800000   \n",
      "75%     58.272222   65.000000   185.500000                1.210000   \n",
      "max     74.763889  404.000000  1858.000000                8.140000   \n",
      "\n",
      "       bilirubin_value_mg_dl  platelets_value_10to9_l  wbc_10to9_l  \\\n",
      "count             146.000000               144.000000   144.000000   \n",
      "mean               16.590764               134.659722    12.064583   \n",
      "std                 9.823214                79.351505     8.235579   \n",
      "min                 2.500000                12.200000     0.000000   \n",
      "25%                 8.420625                78.500000     7.075000   \n",
      "50%                15.101250               121.500000     9.950000   \n",
      "75%                22.949500               168.000000    14.355000   \n",
      "max                51.820000               447.000000    54.560000   \n",
      "\n",
      "          alk_phos  albumin_value_g_dl      sodium         inr    NinetyMo  \\\n",
      "count   144.000000          141.000000  146.000000  146.000000  158.000000   \n",
      "mean    207.744444            2.531773  132.652055    1.917952    0.341772   \n",
      "std     131.714271            0.611569    6.129400    0.700111    0.475812   \n",
      "min      21.200000            1.100000  106.000000    1.000000    0.000000   \n",
      "25%     129.500000            2.100000  129.775000    1.530000    0.000000   \n",
      "50%     173.500000            2.500000  133.000000    1.800000    0.000000   \n",
      "75%     262.750000            3.000000  136.000000    2.115000    1.000000   \n",
      "max    1153.000000            4.200000  148.000000    7.600000    1.000000   \n",
      "\n",
      "             MELD   MELD_2016  \n",
      "count  145.000000  144.000000  \n",
      "mean    25.519613   27.498308  \n",
      "std      6.995499    6.470625  \n",
      "min     12.674823   12.674823  \n",
      "25%     20.657838   22.481662  \n",
      "50%     23.952654   26.477513  \n",
      "75%     29.572420   31.716342  \n",
      "max     54.291449   48.632035  \n"
     ]
    }
   ],
   "source": [
    "# Descriptive statistics for each column\n",
    "print(df_30.describe())\n",
    "print(df_90.describe())"
   ]
  },
  {
   "cell_type": "code",
   "execution_count": 6,
   "metadata": {},
   "outputs": [
    {
     "name": "stdout",
     "output_type": "stream",
     "text": [
      "0.16\n",
      "0.17\n"
     ]
    }
   ],
   "source": [
    "# Observations missing rate\n",
    "print(np.round(1 - df_30.dropna().shape[0] / df_30.shape[0], decimals = 2))\n",
    "print(np.round(1 - df_90.dropna().shape[0] / df_90.shape[0], decimals = 2))"
   ]
  },
  {
   "cell_type": "code",
   "execution_count": 7,
   "metadata": {},
   "outputs": [],
   "source": [
    "# Creating feature matrix\n",
    "X_30 = df_30.drop(['ThirtyMo'] , axis = 1)\n",
    "X_90 = df_90.drop(['NinetyMo'] , axis = 1)\n",
    "\n",
    "# Creating labels\n",
    "y_30 = df_30['ThirtyMo']\n",
    "y_90 = df_90['NinetyMo']\n",
    "\n",
    "# Saving feature names for later use\n",
    "X_list_30_raw = list(X_30.columns)\n",
    "X_list_90_raw = list(X_90.columns)\n",
    "X_list_30 = [i for i in X_list_30_raw if i not in ('MELD', 'MELD_2016')]\n",
    "X_list_90 = [i for i in X_list_90_raw if i not in ('MELD', 'MELD_2016')]"
   ]
  },
  {
   "cell_type": "code",
   "execution_count": 8,
   "metadata": {},
   "outputs": [
    {
     "name": "stdout",
     "output_type": "stream",
     "text": [
      "0    179\n",
      "1     31\n",
      "Name: ThirtyMo, dtype: int64\n",
      "0.0    104\n",
      "1.0     54\n",
      "Name: NinetyMo, dtype: int64\n"
     ]
    }
   ],
   "source": [
    "# Check whether data is balanced\n",
    "print(y_30.value_counts())\n",
    "print(y_90.value_counts())"
   ]
  },
  {
   "cell_type": "code",
   "execution_count": 9,
   "metadata": {},
   "outputs": [],
   "source": [
    "# For died within 30 days outcome\n",
    "\n",
    "# Stratified 5-fold split\n",
    "skf = StratifiedKFold(n_splits = 5)\n",
    "skf.get_n_splits(X_30, y_30)\n",
    "\n",
    "i = 0\n",
    "for train_index, test_index in skf.split(X_30, y_30):\n",
    "    X_train_30, y_train_30 = X_30.iloc[train_index], y_30.iloc[train_index]\n",
    "    X_test_30, y_test_30 = X_30.iloc[test_index], y_30.iloc[test_index]\n",
    "    \n",
    "    # Export the raw data\n",
    "    train_30 = pd.DataFrame(np.column_stack([X_train_30, y_train_30]))\n",
    "    train_30.columns = np.concatenate((X_list_30_raw, 'ThirtyMo'), axis = None)\n",
    "    test_30 = pd.DataFrame(np.column_stack([X_test_30, y_test_30]))\n",
    "    test_30.columns = np.concatenate((X_list_30_raw, 'ThirtyMo'), axis = None)\n",
    "    \n",
    "    train_30.to_csv('train1_30_raw' + str(i) + '.csv', index = False)\n",
    "    test_30.to_csv('test1_30_raw' + str(i) + '.csv', index = False)\n",
    "    \n",
    "    X_train_30 = X_train_30.drop(['MELD', 'MELD_2016'], axis = 1)\n",
    "    X_test_30 = X_test_30.drop(['MELD', 'MELD_2016'], axis = 1)\n",
    "    \n",
    "    # Apply MICE imputation to training data and use the same imputation model to test data\n",
    "    MICE_imputer = IterativeImputer(sample_posterior = True, min_value = 0, random_state = 0)\n",
    "    X_train_30_imp = MICE_imputer.fit_transform(X_train_30)\n",
    "    X_test_30_imp = MICE_imputer.transform(X_test_30)\n",
    "    \n",
    "    # Use SMOTE to over sample the minority class for training data\n",
    "    sm = SMOTE(random_state = 0)\n",
    "    X_train_30_res, y_train_30_res = sm.fit_resample(X_train_30_imp, y_train_30)\n",
    "    \n",
    "    train_30 = pd.DataFrame(np.column_stack([X_train_30_res, y_train_30_res]))\n",
    "    train_30.columns = np.concatenate((X_list_30, 'ThirtyMo'), axis = None)\n",
    "    test_30 = pd.DataFrame(np.column_stack([X_test_30_imp, y_test_30]))\n",
    "    test_30.columns = np.concatenate((X_list_30, 'ThirtyMo'), axis = None)\n",
    "    \n",
    "    train_30.to_csv('train1_30_' + str(i) + '.csv', index = False)\n",
    "    test_30.to_csv('test1_30_' + str(i) + '.csv', index = False)\n",
    "    \n",
    "    i += 1"
   ]
  },
  {
   "cell_type": "code",
   "execution_count": 10,
   "metadata": {},
   "outputs": [],
   "source": [
    "# For died within 90 days outcome\n",
    "\n",
    "# Stratified 5-fold split\n",
    "skf = StratifiedKFold(n_splits = 5)\n",
    "skf.get_n_splits(X_90, y_90)\n",
    "\n",
    "i = 0\n",
    "for train_index, test_index in skf.split(X_90, y_90):\n",
    "    X_train_90, y_train_90 = X_90.iloc[train_index], y_90.iloc[train_index]\n",
    "    X_test_90, y_test_90 = X_90.iloc[test_index], y_90.iloc[test_index]\n",
    "    \n",
    "    # Export the raw training data\n",
    "    train_90 = pd.DataFrame(np.column_stack([X_train_90, y_train_90]))\n",
    "    train_90.columns = np.concatenate((X_list_90_raw, 'NinetyMo'), axis = None)\n",
    "    test_90 = pd.DataFrame(np.column_stack([X_test_90, y_test_90]))\n",
    "    test_90.columns = np.concatenate((X_list_90_raw, 'NinetyMo'), axis = None)\n",
    "    \n",
    "    train_90.to_csv('train1_90_raw' + str(i) + '.csv', index = False)\n",
    "    test_90.to_csv('test1_90_raw' + str(i) + '.csv', index = False)\n",
    "    \n",
    "    X_train_90 = X_train_90.drop(['MELD', 'MELD_2016'], axis = 1)\n",
    "    X_test_90 = X_test_90.drop(['MELD', 'MELD_2016'], axis = 1)\n",
    "    \n",
    "    # Apply MICE imputation to training data and use the same imputation model to test data\n",
    "    MICE_imputer = IterativeImputer(sample_posterior = True, min_value = 0, random_state = 0)\n",
    "    X_train_90_imp = MICE_imputer.fit_transform(X_train_90)\n",
    "    X_test_90_imp = MICE_imputer.transform(X_test_90)\n",
    "    \n",
    "    # Use SMOTE to over sample the minority class for training data\n",
    "    sm = SMOTE(random_state = 0)\n",
    "    X_train_90_res, y_train_90_res = sm.fit_resample(X_train_90_imp, y_train_90)\n",
    "    \n",
    "    train_90 = pd.DataFrame(np.column_stack([X_train_90_res, y_train_90_res]))\n",
    "    train_90.columns = np.concatenate((X_list_90, 'NinetyMo'), axis = None)\n",
    "    test_90 = pd.DataFrame(np.column_stack([X_test_90_imp, y_test_90]))\n",
    "    test_90.columns = np.concatenate((X_list_90, 'NinetyMo'), axis = None)\n",
    "    \n",
    "    train_90.to_csv('train1_90_' + str(i) + '.csv', index = False)\n",
    "    test_90.to_csv('test1_90_' + str(i) + '.csv', index = False)\n",
    "    \n",
    "    i += 1"
   ]
  }
 ],
 "metadata": {
  "kernelspec": {
   "display_name": "Python 3",
   "language": "python",
   "name": "python3"
  },
  "language_info": {
   "codemirror_mode": {
    "name": "ipython",
    "version": 3
   },
   "file_extension": ".py",
   "mimetype": "text/x-python",
   "name": "python",
   "nbconvert_exporter": "python",
   "pygments_lexer": "ipython3",
   "version": "3.7.6"
  }
 },
 "nbformat": 4,
 "nbformat_minor": 2
}
